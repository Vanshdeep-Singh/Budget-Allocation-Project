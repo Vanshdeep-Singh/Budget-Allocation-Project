{
 "cells": [
  {
   "cell_type": "code",
   "execution_count": 7,
   "id": "78e11b82",
   "metadata": {},
   "outputs": [],
   "source": [
    "import pandas as pd\n",
    "\n",
    "df = pd.read_csv('website-landings.csv')\n",
    "\n",
    "# Keep rows where either 'Source' or 'Campaign Type' is not NaN\n",
    "filtered_df = df[df['Source'].notna() | df['Campaign Type'].notna()]\n",
    "\n",
    "# Save the filtered DataFrame\n",
    "filtered_df.to_csv('filtered_landing.csv', index=False)\n",
    "\n"
   ]
  },
  {
   "cell_type": "code",
   "execution_count": null,
   "id": "cf3310e4",
   "metadata": {},
   "outputs": [],
   "source": [
    "df = pd.read_csv('filtered_landing.csv')\n",
    "unique_sources = df['Source'].unique()\n",
    "print(unique_sources)"
   ]
  },
  {
   "cell_type": "code",
   "execution_count": null,
   "id": "ef824972",
   "metadata": {},
   "outputs": [],
   "source": [
    "sources_to_keep = ['google', 'youtube', 'bing', 'gmail', 'instagram', 'facebook', 'linkedin', 'skype']\n",
    "\n",
    "filtered_df = df[df['Source'].isin(sources_to_keep)]"
   ]
  },
  {
   "cell_type": "code",
   "execution_count": null,
   "id": "cc059343",
   "metadata": {},
   "outputs": [],
   "source": [
    "condition = filtered_df['Source'].isin(['facebook', 'instagram'])\n",
    "\n",
    "filtered_df.loc[condition, 'Campaign Type'] = 'Meta'"
   ]
  },
  {
   "cell_type": "code",
   "execution_count": null,
   "id": "6a05da7c",
   "metadata": {},
   "outputs": [],
   "source": [
    "filtered_df.to_csv('last.csv', index=False)"
   ]
  },
  {
   "cell_type": "code",
   "execution_count": null,
   "id": "477a0693",
   "metadata": {},
   "outputs": [],
   "source": [
    "df.replace(\"\", pd.NA, inplace=True)\n",
    "cleaned_df = df.dropna(subset=['Campaign Type'])\n",
    "\n",
    "cleaned_df.to_csv('final_last.csv', index=False)"
   ]
  },
  {
   "cell_type": "code",
   "execution_count": 5,
   "id": "0dc43f1b",
   "metadata": {},
   "outputs": [
    {
     "name": "stdout",
     "output_type": "stream",
     "text": [
      "Final Credit Scores:\n",
      "Cross-network: 0.5870\n",
      "Search Network: 0.1998\n",
      "Display Network: 0.0159\n",
      "Search & content: 0.0275\n",
      "Shopping: 0.0616\n",
      "meta: 0.1083\n",
      "\n",
      "Debug Information:\n",
      "Raw Credit Scores: {'Cross-network': 60994.748754183136, 'meta': 11250.962195956181, 'Search Network': 20760.86759770484, 'Shopping': 6398.718518679385, 'Search & content': 2856.4586368380997, 'Display Network': 1655.689141309085}\n",
      "Touch Points: {'Cross-network': 433945, 'meta': 102456, 'Search Network': 147457, 'Shopping': 44550, 'Search & content': 19731, 'Display Network': 11776}\n"
     ]
    }
   ],
   "source": [
    "import pandas as pd\n",
    "from collections import defaultdict\n",
    "df = pd.read_csv('final_last.csv')\n",
    "df['Website Landing Time'] = pd.to_datetime(df['Website Landing Time'])\n",
    "df = df.sort_values(['User Id', 'Website Landing Time'])\n",
    "\n",
    "credit_scores = defaultdict(float)\n",
    "touch_points = defaultdict(int)\n",
    "\n",
    "campaign_types = [\n",
    "    'Cross-network',\n",
    "    'Search Network',\n",
    "    'Display Network',\n",
    "    'Search & content',\n",
    "    'Shopping',\n",
    "    'Meta'\n",
    "]\n",
    "decay_factor = 0.9\n",
    "\n",
    "for user_id, user_df in df.groupby('User Id'):\n",
    "    user_journey = user_df.sort_values('Website Landing Time')\n",
    "    conversion_index = user_journey.index[user_journey['Is Converted'] == 1].tolist()\n",
    "    \n",
    "    if conversion_index:\n",
    "        conversion_point = conversion_index[0]\n",
    "        relevant_journey = user_journey.loc[:conversion_point]\n",
    "        journey_length = len(relevant_journey)\n",
    "        \n",
    "        for i, (_, row) in enumerate(relevant_journey.iterrows()):\n",
    "            weight = decay_factor ** (journey_length - i - 1)\n",
    "            credit_scores[row['Campaign Type']] += weight\n",
    "            touch_points[row['Campaign Type']] += 1\n",
    "    else:\n",
    "        for _, row in user_journey.iterrows():\n",
    "            credit_scores[row['Campaign Type']] += 0.1\n",
    "            touch_points[row['Campaign Type']] += 1\n",
    "\n",
    "# final scores (normalized to 0-1 range)\n",
    "total_credit = sum(credit_scores.values())\n",
    "final_scores = {}\n",
    "\n",
    "for campaign_type in campaign_types:\n",
    "    if touch_points[campaign_type] > 0:\n",
    "        normalized_credit = credit_scores[campaign_type] / total_credit if total_credit > 0 else 0\n",
    "        final_scores[campaign_type] = min(normalized_credit, 1.0)\n",
    "    else:\n",
    "        final_scores[campaign_type] = 0.0\n",
    "\n",
    "print(\"Final Credit Scores:\")\n",
    "for campaign_type in campaign_types:\n",
    "    print(f\"{campaign_type}: {final_scores[campaign_type]:.4f}\")\n",
    "\n",
    "print(\"Raw Credit Scores:\", dict(credit_scores))\n",
    "print(\"Touch Points:\", dict(touch_points))"
   ]
  },
  {
   "cell_type": "code",
   "execution_count": 6,
   "id": "3c9dcc14",
   "metadata": {},
   "outputs": [],
   "source": [
    "results_df = pd.DataFrame({\n",
    "    'Campaign Type': campaign_types,\n",
    "    'Credit Score': [final_scores[ct] for ct in campaign_types]\n",
    "})\n",
    "\n",
    "# Save the results to a new CSV file\n",
    "output_file = 'campaign_credit_scores.csv'\n",
    "results_df.to_csv(output_file, index=False)"
   ]
  },
  {
   "cell_type": "code",
   "execution_count": null,
   "id": "c9552aef",
   "metadata": {},
   "outputs": [],
   "source": []
  }
 ],
 "metadata": {
  "kernelspec": {
   "display_name": "Python 3 (ipykernel)",
   "language": "python",
   "name": "python3"
  },
  "language_info": {
   "codemirror_mode": {
    "name": "ipython",
    "version": 3
   },
   "file_extension": ".py",
   "mimetype": "text/x-python",
   "name": "python",
   "nbconvert_exporter": "python",
   "pygments_lexer": "ipython3",
   "version": "3.11.5"
  }
 },
 "nbformat": 4,
 "nbformat_minor": 5
}
